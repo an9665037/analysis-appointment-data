{
 "cells": [
  {
   "cell_type": "markdown",
   "id": "e9294349",
   "metadata": {},
   "source": [
    "\n",
    "\n",
    "# Project: Investigate a Dataset - [100k medical appointments in Brazil]\n",
    "\n",
    "## Table of Contents\n",
    "<ul>\n",
    "<li><a href=\"#intro\">Introduction</a></li>\n",
    "<li><a href=\"#wrangling\">Data Wrangling</a></li>\n",
    "<li><a href=\"#eda\">Exploratory Data Analysis</a></li>\n",
    "<li><a href=\"#conclusions\">Conclusions</a></li>\n",
    "</ul>"
   ]
  },
  {
   "cell_type": "markdown",
   "id": "d3b154c5",
   "metadata": {},
   "source": [
    "<a id='intro'></a>\n",
    "## Introduction\n",
    "\n",
    "### Dataset Description \n",
    "\n",
    "> This dataset collects information from 100k medical appointments in Brazil and is focused on the question of whether or not patients show up for their appointment. A number of characteristics about the patient are included in each row.\n",
    "‘ScheduledDay’ tells us on what day the patient set up their appointment.\n",
    "‘Neighborhood’ indicates the location of the hospital.\n",
    "‘Scholarship’ indicates whether or not the patient is enrolled in Brasilian welfare program.\n",
    "\n",
    "\n",
    "### Question(s) for Analysis\n",
    "\n",
    ">Questions to answer by analysing the data set:\n",
    "\n",
    "1- who has the highiest probability to attend in the spicified appointment date ?  \n",
    "2- does handicapabiliy degree affects the attentance percentage ?  \n",
    "3- Does alcoholism or gender influences whether  the patient attend or not ?  \n",
    "4- Did sending sms affect the attendence ?  \n",
    "5- what is percentrage of attendence?   \n",
    "6- is there any aspect that contributes sharply to not attending ?  \n",
    "7- what is the top 10 nighbourhoods with the lowest attendence ?  \n",
    "8- that is age category with the most attendence and the one with the lowest ?  "
   ]
  },
  {
   "cell_type": "code",
   "execution_count": 1,
   "id": "f858ceb9",
   "metadata": {},
   "outputs": [],
   "source": [
    "import pandas as pd\n",
    "import numpy as np\n",
    "import matplotlib.pyplot as plt\n",
    "import os"
   ]
  },
  {
   "cell_type": "markdown",
   "id": "c672456e",
   "metadata": {},
   "source": [
    "<a id='wrangling'></a>\n",
    "## Data Wrangling\n",
    "\n",
    "\n",
    "\n",
    "### General Properties\n",
    "> Most of the date set contains categorical data rather than numerical one.  \n",
    "> It will be easier to switch the logical 1,0 values into more understandable yes- no values.  \n",
    "> The 'no-show' column better be adjusted to a clearer format.\n",
    "> There are date time columns should be rendered date_time formate\n",
    "> Time in the appointment column is always '00: 00: 00' so there is no use of it."
   ]
  },
  {
   "cell_type": "markdown",
   "id": "ea6afcfb",
   "metadata": {},
   "source": [
    "#### Loading the csv file containing the data set."
   ]
  },
  {
   "cell_type": "code",
   "execution_count": 2,
   "id": "b9a6dd80",
   "metadata": {},
   "outputs": [],
   "source": [
    "df= pd.read_csv('noshowappointments-kagglev2-may-2016.csv')"
   ]
  },
  {
   "cell_type": "markdown",
   "id": "ed0679ce",
   "metadata": {},
   "source": [
    "### Gathering some information about the data set."
   ]
  },
  {
   "cell_type": "code",
   "execution_count": 3,
   "id": "214527ff",
   "metadata": {},
   "outputs": [
    {
     "name": "stdout",
     "output_type": "stream",
     "text": [
      "<class 'pandas.core.frame.DataFrame'>\n",
      "RangeIndex: 110527 entries, 0 to 110526\n",
      "Data columns (total 14 columns):\n",
      " #   Column          Non-Null Count   Dtype  \n",
      "---  ------          --------------   -----  \n",
      " 0   PatientId       110527 non-null  float64\n",
      " 1   AppointmentID   110527 non-null  int64  \n",
      " 2   Gender          110527 non-null  object \n",
      " 3   ScheduledDay    110527 non-null  object \n",
      " 4   AppointmentDay  110527 non-null  object \n",
      " 5   Age             110527 non-null  int64  \n",
      " 6   Neighbourhood   110527 non-null  object \n",
      " 7   Scholarship     110527 non-null  int64  \n",
      " 8   Hipertension    110527 non-null  int64  \n",
      " 9   Diabetes        110527 non-null  int64  \n",
      " 10  Alcoholism      110527 non-null  int64  \n",
      " 11  Handcap         110527 non-null  int64  \n",
      " 12  SMS_received    110527 non-null  int64  \n",
      " 13  No-show         110527 non-null  object \n",
      "dtypes: float64(1), int64(8), object(5)\n",
      "memory usage: 11.8+ MB\n"
     ]
    }
   ],
   "source": [
    "df.info()"
   ]
  },
  {
   "cell_type": "code",
   "execution_count": 4,
   "id": "acee19c5",
   "metadata": {},
   "outputs": [
    {
     "data": {
      "text/plain": [
       "0"
      ]
     },
     "execution_count": 4,
     "metadata": {},
     "output_type": "execute_result"
    }
   ],
   "source": [
    "df.isnull().sum().sum() #finding Null values."
   ]
  },
  {
   "cell_type": "code",
   "execution_count": 5,
   "id": "9e0c70d3",
   "metadata": {},
   "outputs": [
    {
     "data": {
      "text/plain": [
       "0"
      ]
     },
     "execution_count": 5,
     "metadata": {},
     "output_type": "execute_result"
    }
   ],
   "source": [
    "df.duplicated().sum() #finding duplicated values."
   ]
  },
  {
   "cell_type": "code",
   "execution_count": 6,
   "id": "651bf5e9",
   "metadata": {},
   "outputs": [
    {
     "data": {
      "text/plain": [
       "(110527, 14)"
      ]
     },
     "execution_count": 6,
     "metadata": {},
     "output_type": "execute_result"
    }
   ],
   "source": [
    "df.shape"
   ]
  },
  {
   "cell_type": "code",
   "execution_count": 7,
   "id": "7ba54d4b",
   "metadata": {},
   "outputs": [
    {
     "data": {
      "text/html": [
       "<div>\n",
       "<style scoped>\n",
       "    .dataframe tbody tr th:only-of-type {\n",
       "        vertical-align: middle;\n",
       "    }\n",
       "\n",
       "    .dataframe tbody tr th {\n",
       "        vertical-align: top;\n",
       "    }\n",
       "\n",
       "    .dataframe thead th {\n",
       "        text-align: right;\n",
       "    }\n",
       "</style>\n",
       "<table border=\"1\" class=\"dataframe\">\n",
       "  <thead>\n",
       "    <tr style=\"text-align: right;\">\n",
       "      <th></th>\n",
       "      <th>PatientId</th>\n",
       "      <th>AppointmentID</th>\n",
       "      <th>Gender</th>\n",
       "      <th>ScheduledDay</th>\n",
       "      <th>AppointmentDay</th>\n",
       "      <th>Age</th>\n",
       "      <th>Neighbourhood</th>\n",
       "      <th>Scholarship</th>\n",
       "      <th>Hipertension</th>\n",
       "      <th>Diabetes</th>\n",
       "      <th>Alcoholism</th>\n",
       "      <th>Handcap</th>\n",
       "      <th>SMS_received</th>\n",
       "      <th>No-show</th>\n",
       "    </tr>\n",
       "  </thead>\n",
       "  <tbody>\n",
       "    <tr>\n",
       "      <th>0</th>\n",
       "      <td>2.987250e+13</td>\n",
       "      <td>5642903</td>\n",
       "      <td>F</td>\n",
       "      <td>2016-04-29T18:38:08Z</td>\n",
       "      <td>2016-04-29T00:00:00Z</td>\n",
       "      <td>62</td>\n",
       "      <td>JARDIM DA PENHA</td>\n",
       "      <td>0</td>\n",
       "      <td>1</td>\n",
       "      <td>0</td>\n",
       "      <td>0</td>\n",
       "      <td>0</td>\n",
       "      <td>0</td>\n",
       "      <td>No</td>\n",
       "    </tr>\n",
       "    <tr>\n",
       "      <th>1</th>\n",
       "      <td>5.589978e+14</td>\n",
       "      <td>5642503</td>\n",
       "      <td>M</td>\n",
       "      <td>2016-04-29T16:08:27Z</td>\n",
       "      <td>2016-04-29T00:00:00Z</td>\n",
       "      <td>56</td>\n",
       "      <td>JARDIM DA PENHA</td>\n",
       "      <td>0</td>\n",
       "      <td>0</td>\n",
       "      <td>0</td>\n",
       "      <td>0</td>\n",
       "      <td>0</td>\n",
       "      <td>0</td>\n",
       "      <td>No</td>\n",
       "    </tr>\n",
       "    <tr>\n",
       "      <th>2</th>\n",
       "      <td>4.262962e+12</td>\n",
       "      <td>5642549</td>\n",
       "      <td>F</td>\n",
       "      <td>2016-04-29T16:19:04Z</td>\n",
       "      <td>2016-04-29T00:00:00Z</td>\n",
       "      <td>62</td>\n",
       "      <td>MATA DA PRAIA</td>\n",
       "      <td>0</td>\n",
       "      <td>0</td>\n",
       "      <td>0</td>\n",
       "      <td>0</td>\n",
       "      <td>0</td>\n",
       "      <td>0</td>\n",
       "      <td>No</td>\n",
       "    </tr>\n",
       "    <tr>\n",
       "      <th>3</th>\n",
       "      <td>8.679512e+11</td>\n",
       "      <td>5642828</td>\n",
       "      <td>F</td>\n",
       "      <td>2016-04-29T17:29:31Z</td>\n",
       "      <td>2016-04-29T00:00:00Z</td>\n",
       "      <td>8</td>\n",
       "      <td>PONTAL DE CAMBURI</td>\n",
       "      <td>0</td>\n",
       "      <td>0</td>\n",
       "      <td>0</td>\n",
       "      <td>0</td>\n",
       "      <td>0</td>\n",
       "      <td>0</td>\n",
       "      <td>No</td>\n",
       "    </tr>\n",
       "    <tr>\n",
       "      <th>4</th>\n",
       "      <td>8.841186e+12</td>\n",
       "      <td>5642494</td>\n",
       "      <td>F</td>\n",
       "      <td>2016-04-29T16:07:23Z</td>\n",
       "      <td>2016-04-29T00:00:00Z</td>\n",
       "      <td>56</td>\n",
       "      <td>JARDIM DA PENHA</td>\n",
       "      <td>0</td>\n",
       "      <td>1</td>\n",
       "      <td>1</td>\n",
       "      <td>0</td>\n",
       "      <td>0</td>\n",
       "      <td>0</td>\n",
       "      <td>No</td>\n",
       "    </tr>\n",
       "  </tbody>\n",
       "</table>\n",
       "</div>"
      ],
      "text/plain": [
       "      PatientId  AppointmentID Gender          ScheduledDay  \\\n",
       "0  2.987250e+13        5642903      F  2016-04-29T18:38:08Z   \n",
       "1  5.589978e+14        5642503      M  2016-04-29T16:08:27Z   \n",
       "2  4.262962e+12        5642549      F  2016-04-29T16:19:04Z   \n",
       "3  8.679512e+11        5642828      F  2016-04-29T17:29:31Z   \n",
       "4  8.841186e+12        5642494      F  2016-04-29T16:07:23Z   \n",
       "\n",
       "         AppointmentDay  Age      Neighbourhood  Scholarship  Hipertension  \\\n",
       "0  2016-04-29T00:00:00Z   62    JARDIM DA PENHA            0             1   \n",
       "1  2016-04-29T00:00:00Z   56    JARDIM DA PENHA            0             0   \n",
       "2  2016-04-29T00:00:00Z   62      MATA DA PRAIA            0             0   \n",
       "3  2016-04-29T00:00:00Z    8  PONTAL DE CAMBURI            0             0   \n",
       "4  2016-04-29T00:00:00Z   56    JARDIM DA PENHA            0             1   \n",
       "\n",
       "   Diabetes  Alcoholism  Handcap  SMS_received No-show  \n",
       "0         0           0        0             0      No  \n",
       "1         0           0        0             0      No  \n",
       "2         0           0        0             0      No  \n",
       "3         0           0        0             0      No  \n",
       "4         1           0        0             0      No  "
      ]
     },
     "execution_count": 7,
     "metadata": {},
     "output_type": "execute_result"
    }
   ],
   "source": [
    "df.head()"
   ]
  },
  {
   "cell_type": "markdown",
   "id": "6855ad00",
   "metadata": {},
   "source": [
    "### Data cleaning and adjustment to render it more fit to the analysis."
   ]
  },
  {
   "cell_type": "markdown",
   "id": "84aca7d3",
   "metadata": {},
   "source": [
    "#### 1- removing unnessary columns for clarity. "
   ]
  },
  {
   "cell_type": "code",
   "execution_count": 8,
   "id": "9f356f40",
   "metadata": {},
   "outputs": [],
   "source": [
    "df= df.drop('PatientId', axis=1)"
   ]
  },
  {
   "cell_type": "markdown",
   "id": "80664de3",
   "metadata": {},
   "source": [
    "#### 2- Turning all the columns names into lower case."
   ]
  },
  {
   "cell_type": "code",
   "execution_count": 9,
   "id": "9f70a7c1",
   "metadata": {},
   "outputs": [],
   "source": [
    "df= df.rename(lambda x: x.lower(), axis=1)"
   ]
  },
  {
   "cell_type": "code",
   "execution_count": 10,
   "id": "01055afa",
   "metadata": {},
   "outputs": [
    {
     "data": {
      "text/html": [
       "<div>\n",
       "<style scoped>\n",
       "    .dataframe tbody tr th:only-of-type {\n",
       "        vertical-align: middle;\n",
       "    }\n",
       "\n",
       "    .dataframe tbody tr th {\n",
       "        vertical-align: top;\n",
       "    }\n",
       "\n",
       "    .dataframe thead th {\n",
       "        text-align: right;\n",
       "    }\n",
       "</style>\n",
       "<table border=\"1\" class=\"dataframe\">\n",
       "  <thead>\n",
       "    <tr style=\"text-align: right;\">\n",
       "      <th></th>\n",
       "      <th>appointmentid</th>\n",
       "      <th>gender</th>\n",
       "      <th>scheduledday</th>\n",
       "      <th>appointmentday</th>\n",
       "      <th>age</th>\n",
       "      <th>neighbourhood</th>\n",
       "      <th>scholarship</th>\n",
       "      <th>hipertension</th>\n",
       "      <th>diabetes</th>\n",
       "      <th>alcoholism</th>\n",
       "      <th>handcap</th>\n",
       "      <th>sms_received</th>\n",
       "      <th>no-show</th>\n",
       "    </tr>\n",
       "  </thead>\n",
       "  <tbody>\n",
       "    <tr>\n",
       "      <th>0</th>\n",
       "      <td>5642903</td>\n",
       "      <td>F</td>\n",
       "      <td>2016-04-29T18:38:08Z</td>\n",
       "      <td>2016-04-29T00:00:00Z</td>\n",
       "      <td>62</td>\n",
       "      <td>JARDIM DA PENHA</td>\n",
       "      <td>0</td>\n",
       "      <td>1</td>\n",
       "      <td>0</td>\n",
       "      <td>0</td>\n",
       "      <td>0</td>\n",
       "      <td>0</td>\n",
       "      <td>No</td>\n",
       "    </tr>\n",
       "    <tr>\n",
       "      <th>1</th>\n",
       "      <td>5642503</td>\n",
       "      <td>M</td>\n",
       "      <td>2016-04-29T16:08:27Z</td>\n",
       "      <td>2016-04-29T00:00:00Z</td>\n",
       "      <td>56</td>\n",
       "      <td>JARDIM DA PENHA</td>\n",
       "      <td>0</td>\n",
       "      <td>0</td>\n",
       "      <td>0</td>\n",
       "      <td>0</td>\n",
       "      <td>0</td>\n",
       "      <td>0</td>\n",
       "      <td>No</td>\n",
       "    </tr>\n",
       "    <tr>\n",
       "      <th>2</th>\n",
       "      <td>5642549</td>\n",
       "      <td>F</td>\n",
       "      <td>2016-04-29T16:19:04Z</td>\n",
       "      <td>2016-04-29T00:00:00Z</td>\n",
       "      <td>62</td>\n",
       "      <td>MATA DA PRAIA</td>\n",
       "      <td>0</td>\n",
       "      <td>0</td>\n",
       "      <td>0</td>\n",
       "      <td>0</td>\n",
       "      <td>0</td>\n",
       "      <td>0</td>\n",
       "      <td>No</td>\n",
       "    </tr>\n",
       "    <tr>\n",
       "      <th>3</th>\n",
       "      <td>5642828</td>\n",
       "      <td>F</td>\n",
       "      <td>2016-04-29T17:29:31Z</td>\n",
       "      <td>2016-04-29T00:00:00Z</td>\n",
       "      <td>8</td>\n",
       "      <td>PONTAL DE CAMBURI</td>\n",
       "      <td>0</td>\n",
       "      <td>0</td>\n",
       "      <td>0</td>\n",
       "      <td>0</td>\n",
       "      <td>0</td>\n",
       "      <td>0</td>\n",
       "      <td>No</td>\n",
       "    </tr>\n",
       "    <tr>\n",
       "      <th>4</th>\n",
       "      <td>5642494</td>\n",
       "      <td>F</td>\n",
       "      <td>2016-04-29T16:07:23Z</td>\n",
       "      <td>2016-04-29T00:00:00Z</td>\n",
       "      <td>56</td>\n",
       "      <td>JARDIM DA PENHA</td>\n",
       "      <td>0</td>\n",
       "      <td>1</td>\n",
       "      <td>1</td>\n",
       "      <td>0</td>\n",
       "      <td>0</td>\n",
       "      <td>0</td>\n",
       "      <td>No</td>\n",
       "    </tr>\n",
       "    <tr>\n",
       "      <th>...</th>\n",
       "      <td>...</td>\n",
       "      <td>...</td>\n",
       "      <td>...</td>\n",
       "      <td>...</td>\n",
       "      <td>...</td>\n",
       "      <td>...</td>\n",
       "      <td>...</td>\n",
       "      <td>...</td>\n",
       "      <td>...</td>\n",
       "      <td>...</td>\n",
       "      <td>...</td>\n",
       "      <td>...</td>\n",
       "      <td>...</td>\n",
       "    </tr>\n",
       "    <tr>\n",
       "      <th>110522</th>\n",
       "      <td>5651768</td>\n",
       "      <td>F</td>\n",
       "      <td>2016-05-03T09:15:35Z</td>\n",
       "      <td>2016-06-07T00:00:00Z</td>\n",
       "      <td>56</td>\n",
       "      <td>MARIA ORTIZ</td>\n",
       "      <td>0</td>\n",
       "      <td>0</td>\n",
       "      <td>0</td>\n",
       "      <td>0</td>\n",
       "      <td>0</td>\n",
       "      <td>1</td>\n",
       "      <td>No</td>\n",
       "    </tr>\n",
       "    <tr>\n",
       "      <th>110523</th>\n",
       "      <td>5650093</td>\n",
       "      <td>F</td>\n",
       "      <td>2016-05-03T07:27:33Z</td>\n",
       "      <td>2016-06-07T00:00:00Z</td>\n",
       "      <td>51</td>\n",
       "      <td>MARIA ORTIZ</td>\n",
       "      <td>0</td>\n",
       "      <td>0</td>\n",
       "      <td>0</td>\n",
       "      <td>0</td>\n",
       "      <td>0</td>\n",
       "      <td>1</td>\n",
       "      <td>No</td>\n",
       "    </tr>\n",
       "    <tr>\n",
       "      <th>110524</th>\n",
       "      <td>5630692</td>\n",
       "      <td>F</td>\n",
       "      <td>2016-04-27T16:03:52Z</td>\n",
       "      <td>2016-06-07T00:00:00Z</td>\n",
       "      <td>21</td>\n",
       "      <td>MARIA ORTIZ</td>\n",
       "      <td>0</td>\n",
       "      <td>0</td>\n",
       "      <td>0</td>\n",
       "      <td>0</td>\n",
       "      <td>0</td>\n",
       "      <td>1</td>\n",
       "      <td>No</td>\n",
       "    </tr>\n",
       "    <tr>\n",
       "      <th>110525</th>\n",
       "      <td>5630323</td>\n",
       "      <td>F</td>\n",
       "      <td>2016-04-27T15:09:23Z</td>\n",
       "      <td>2016-06-07T00:00:00Z</td>\n",
       "      <td>38</td>\n",
       "      <td>MARIA ORTIZ</td>\n",
       "      <td>0</td>\n",
       "      <td>0</td>\n",
       "      <td>0</td>\n",
       "      <td>0</td>\n",
       "      <td>0</td>\n",
       "      <td>1</td>\n",
       "      <td>No</td>\n",
       "    </tr>\n",
       "    <tr>\n",
       "      <th>110526</th>\n",
       "      <td>5629448</td>\n",
       "      <td>F</td>\n",
       "      <td>2016-04-27T13:30:56Z</td>\n",
       "      <td>2016-06-07T00:00:00Z</td>\n",
       "      <td>54</td>\n",
       "      <td>MARIA ORTIZ</td>\n",
       "      <td>0</td>\n",
       "      <td>0</td>\n",
       "      <td>0</td>\n",
       "      <td>0</td>\n",
       "      <td>0</td>\n",
       "      <td>1</td>\n",
       "      <td>No</td>\n",
       "    </tr>\n",
       "  </tbody>\n",
       "</table>\n",
       "<p>110527 rows × 13 columns</p>\n",
       "</div>"
      ],
      "text/plain": [
       "        appointmentid gender          scheduledday        appointmentday  age  \\\n",
       "0             5642903      F  2016-04-29T18:38:08Z  2016-04-29T00:00:00Z   62   \n",
       "1             5642503      M  2016-04-29T16:08:27Z  2016-04-29T00:00:00Z   56   \n",
       "2             5642549      F  2016-04-29T16:19:04Z  2016-04-29T00:00:00Z   62   \n",
       "3             5642828      F  2016-04-29T17:29:31Z  2016-04-29T00:00:00Z    8   \n",
       "4             5642494      F  2016-04-29T16:07:23Z  2016-04-29T00:00:00Z   56   \n",
       "...               ...    ...                   ...                   ...  ...   \n",
       "110522        5651768      F  2016-05-03T09:15:35Z  2016-06-07T00:00:00Z   56   \n",
       "110523        5650093      F  2016-05-03T07:27:33Z  2016-06-07T00:00:00Z   51   \n",
       "110524        5630692      F  2016-04-27T16:03:52Z  2016-06-07T00:00:00Z   21   \n",
       "110525        5630323      F  2016-04-27T15:09:23Z  2016-06-07T00:00:00Z   38   \n",
       "110526        5629448      F  2016-04-27T13:30:56Z  2016-06-07T00:00:00Z   54   \n",
       "\n",
       "            neighbourhood  scholarship  hipertension  diabetes  alcoholism  \\\n",
       "0         JARDIM DA PENHA            0             1         0           0   \n",
       "1         JARDIM DA PENHA            0             0         0           0   \n",
       "2           MATA DA PRAIA            0             0         0           0   \n",
       "3       PONTAL DE CAMBURI            0             0         0           0   \n",
       "4         JARDIM DA PENHA            0             1         1           0   \n",
       "...                   ...          ...           ...       ...         ...   \n",
       "110522        MARIA ORTIZ            0             0         0           0   \n",
       "110523        MARIA ORTIZ            0             0         0           0   \n",
       "110524        MARIA ORTIZ            0             0         0           0   \n",
       "110525        MARIA ORTIZ            0             0         0           0   \n",
       "110526        MARIA ORTIZ            0             0         0           0   \n",
       "\n",
       "        handcap  sms_received no-show  \n",
       "0             0             0      No  \n",
       "1             0             0      No  \n",
       "2             0             0      No  \n",
       "3             0             0      No  \n",
       "4             0             0      No  \n",
       "...         ...           ...     ...  \n",
       "110522        0             1      No  \n",
       "110523        0             1      No  \n",
       "110524        0             1      No  \n",
       "110525        0             1      No  \n",
       "110526        0             1      No  \n",
       "\n",
       "[110527 rows x 13 columns]"
      ]
     },
     "execution_count": 10,
     "metadata": {},
     "output_type": "execute_result"
    }
   ],
   "source": [
    "df"
   ]
  },
  {
   "cell_type": "markdown",
   "id": "27f04a7c",
   "metadata": {},
   "source": [
    "#### 3- Turning the 0, 1 value columns into a caregorical no, yes values. "
   ]
  },
  {
   "cell_type": "code",
   "execution_count": 11,
   "id": "c09cf994",
   "metadata": {},
   "outputs": [
    {
     "data": {
      "text/plain": [
       "appointmentid     110527\n",
       "gender                 2\n",
       "scheduledday      103549\n",
       "appointmentday        27\n",
       "age                  104\n",
       "neighbourhood         81\n",
       "scholarship            2\n",
       "hipertension           2\n",
       "diabetes               2\n",
       "alcoholism             2\n",
       "handcap                5\n",
       "sms_received           2\n",
       "no-show                2\n",
       "dtype: int64"
      ]
     },
     "execution_count": 11,
     "metadata": {},
     "output_type": "execute_result"
    }
   ],
   "source": [
    "df.nunique()"
   ]
  },
  {
   "cell_type": "code",
   "execution_count": 12,
   "id": "b855fea5",
   "metadata": {},
   "outputs": [
    {
     "data": {
      "text/plain": [
       "array([0, 1, 2, 3, 4], dtype=int64)"
      ]
     },
     "execution_count": 12,
     "metadata": {},
     "output_type": "execute_result"
    }
   ],
   "source": [
    "df.handcap.unique()"
   ]
  },
  {
   "cell_type": "code",
   "execution_count": 13,
   "id": "ef5e6279",
   "metadata": {},
   "outputs": [],
   "source": [
    "replace= {0: 'no', 1: 'yes'}\n",
    "cols= ['scholarship','hipertension','diabetes','alcoholism','sms_received']\n",
    "df[cols]= df[cols].replace(replace)"
   ]
  },
  {
   "cell_type": "code",
   "execution_count": 14,
   "id": "e05a71eb",
   "metadata": {},
   "outputs": [
    {
     "data": {
      "text/html": [
       "<div>\n",
       "<style scoped>\n",
       "    .dataframe tbody tr th:only-of-type {\n",
       "        vertical-align: middle;\n",
       "    }\n",
       "\n",
       "    .dataframe tbody tr th {\n",
       "        vertical-align: top;\n",
       "    }\n",
       "\n",
       "    .dataframe thead th {\n",
       "        text-align: right;\n",
       "    }\n",
       "</style>\n",
       "<table border=\"1\" class=\"dataframe\">\n",
       "  <thead>\n",
       "    <tr style=\"text-align: right;\">\n",
       "      <th></th>\n",
       "      <th>appointmentid</th>\n",
       "      <th>gender</th>\n",
       "      <th>scheduledday</th>\n",
       "      <th>appointmentday</th>\n",
       "      <th>age</th>\n",
       "      <th>neighbourhood</th>\n",
       "      <th>scholarship</th>\n",
       "      <th>hipertension</th>\n",
       "      <th>diabetes</th>\n",
       "      <th>alcoholism</th>\n",
       "      <th>handcap</th>\n",
       "      <th>sms_received</th>\n",
       "      <th>no-show</th>\n",
       "    </tr>\n",
       "  </thead>\n",
       "  <tbody>\n",
       "    <tr>\n",
       "      <th>0</th>\n",
       "      <td>5642903</td>\n",
       "      <td>F</td>\n",
       "      <td>2016-04-29T18:38:08Z</td>\n",
       "      <td>2016-04-29T00:00:00Z</td>\n",
       "      <td>62</td>\n",
       "      <td>JARDIM DA PENHA</td>\n",
       "      <td>no</td>\n",
       "      <td>yes</td>\n",
       "      <td>no</td>\n",
       "      <td>no</td>\n",
       "      <td>0</td>\n",
       "      <td>no</td>\n",
       "      <td>No</td>\n",
       "    </tr>\n",
       "    <tr>\n",
       "      <th>1</th>\n",
       "      <td>5642503</td>\n",
       "      <td>M</td>\n",
       "      <td>2016-04-29T16:08:27Z</td>\n",
       "      <td>2016-04-29T00:00:00Z</td>\n",
       "      <td>56</td>\n",
       "      <td>JARDIM DA PENHA</td>\n",
       "      <td>no</td>\n",
       "      <td>no</td>\n",
       "      <td>no</td>\n",
       "      <td>no</td>\n",
       "      <td>0</td>\n",
       "      <td>no</td>\n",
       "      <td>No</td>\n",
       "    </tr>\n",
       "    <tr>\n",
       "      <th>2</th>\n",
       "      <td>5642549</td>\n",
       "      <td>F</td>\n",
       "      <td>2016-04-29T16:19:04Z</td>\n",
       "      <td>2016-04-29T00:00:00Z</td>\n",
       "      <td>62</td>\n",
       "      <td>MATA DA PRAIA</td>\n",
       "      <td>no</td>\n",
       "      <td>no</td>\n",
       "      <td>no</td>\n",
       "      <td>no</td>\n",
       "      <td>0</td>\n",
       "      <td>no</td>\n",
       "      <td>No</td>\n",
       "    </tr>\n",
       "  </tbody>\n",
       "</table>\n",
       "</div>"
      ],
      "text/plain": [
       "   appointmentid gender          scheduledday        appointmentday  age  \\\n",
       "0        5642903      F  2016-04-29T18:38:08Z  2016-04-29T00:00:00Z   62   \n",
       "1        5642503      M  2016-04-29T16:08:27Z  2016-04-29T00:00:00Z   56   \n",
       "2        5642549      F  2016-04-29T16:19:04Z  2016-04-29T00:00:00Z   62   \n",
       "\n",
       "     neighbourhood scholarship hipertension diabetes alcoholism  handcap  \\\n",
       "0  JARDIM DA PENHA          no          yes       no         no        0   \n",
       "1  JARDIM DA PENHA          no           no       no         no        0   \n",
       "2    MATA DA PRAIA          no           no       no         no        0   \n",
       "\n",
       "  sms_received no-show  \n",
       "0           no      No  \n",
       "1           no      No  \n",
       "2           no      No  "
      ]
     },
     "execution_count": 14,
     "metadata": {},
     "output_type": "execute_result"
    }
   ],
   "source": [
    "df.head(3)"
   ]
  },
  {
   "cell_type": "markdown",
   "id": "9a3f170c",
   "metadata": {},
   "source": [
    "#### 4- Turning the no-show column name into a more logical name and altering the values."
   ]
  },
  {
   "cell_type": "code",
   "execution_count": 15,
   "id": "8a277b8d",
   "metadata": {},
   "outputs": [
    {
     "data": {
      "text/html": [
       "<div>\n",
       "<style scoped>\n",
       "    .dataframe tbody tr th:only-of-type {\n",
       "        vertical-align: middle;\n",
       "    }\n",
       "\n",
       "    .dataframe tbody tr th {\n",
       "        vertical-align: top;\n",
       "    }\n",
       "\n",
       "    .dataframe thead th {\n",
       "        text-align: right;\n",
       "    }\n",
       "</style>\n",
       "<table border=\"1\" class=\"dataframe\">\n",
       "  <thead>\n",
       "    <tr style=\"text-align: right;\">\n",
       "      <th></th>\n",
       "      <th>appointmentid</th>\n",
       "      <th>gender</th>\n",
       "      <th>scheduledday</th>\n",
       "      <th>appointmentday</th>\n",
       "      <th>age</th>\n",
       "      <th>neighbourhood</th>\n",
       "      <th>scholarship</th>\n",
       "      <th>hipertension</th>\n",
       "      <th>diabetes</th>\n",
       "      <th>alcoholism</th>\n",
       "      <th>handcap</th>\n",
       "      <th>sms_received</th>\n",
       "      <th>show</th>\n",
       "    </tr>\n",
       "  </thead>\n",
       "  <tbody>\n",
       "    <tr>\n",
       "      <th>0</th>\n",
       "      <td>5642903</td>\n",
       "      <td>F</td>\n",
       "      <td>2016-04-29T18:38:08Z</td>\n",
       "      <td>2016-04-29T00:00:00Z</td>\n",
       "      <td>62</td>\n",
       "      <td>JARDIM DA PENHA</td>\n",
       "      <td>no</td>\n",
       "      <td>yes</td>\n",
       "      <td>no</td>\n",
       "      <td>no</td>\n",
       "      <td>0</td>\n",
       "      <td>no</td>\n",
       "      <td>yes</td>\n",
       "    </tr>\n",
       "  </tbody>\n",
       "</table>\n",
       "</div>"
      ],
      "text/plain": [
       "   appointmentid gender          scheduledday        appointmentday  age  \\\n",
       "0        5642903      F  2016-04-29T18:38:08Z  2016-04-29T00:00:00Z   62   \n",
       "\n",
       "     neighbourhood scholarship hipertension diabetes alcoholism  handcap  \\\n",
       "0  JARDIM DA PENHA          no          yes       no         no        0   \n",
       "\n",
       "  sms_received show  \n",
       "0           no  yes  "
      ]
     },
     "execution_count": 15,
     "metadata": {},
     "output_type": "execute_result"
    }
   ],
   "source": [
    "df.rename({'no-show': 'show'}, axis =1, inplace = True)\n",
    "replace1={'No': 'yes', 'Yes':'no'}\n",
    "df.show= df.show.replace(replace1)\n",
    "df.head(1)"
   ]
  },
  {
   "cell_type": "markdown",
   "id": "eb7482ca",
   "metadata": {},
   "source": [
    "#### 5- Changing the hipertension column name into correct word 'hypertension'."
   ]
  },
  {
   "cell_type": "code",
   "execution_count": 16,
   "id": "a1e14aa7",
   "metadata": {},
   "outputs": [
    {
     "data": {
      "text/html": [
       "<div>\n",
       "<style scoped>\n",
       "    .dataframe tbody tr th:only-of-type {\n",
       "        vertical-align: middle;\n",
       "    }\n",
       "\n",
       "    .dataframe tbody tr th {\n",
       "        vertical-align: top;\n",
       "    }\n",
       "\n",
       "    .dataframe thead th {\n",
       "        text-align: right;\n",
       "    }\n",
       "</style>\n",
       "<table border=\"1\" class=\"dataframe\">\n",
       "  <thead>\n",
       "    <tr style=\"text-align: right;\">\n",
       "      <th></th>\n",
       "      <th>appointmentid</th>\n",
       "      <th>gender</th>\n",
       "      <th>scheduledday</th>\n",
       "      <th>appointmentday</th>\n",
       "      <th>age</th>\n",
       "      <th>neighbourhood</th>\n",
       "      <th>scholarship</th>\n",
       "      <th>hypertension</th>\n",
       "      <th>diabetes</th>\n",
       "      <th>alcoholism</th>\n",
       "      <th>handcap</th>\n",
       "      <th>sms_received</th>\n",
       "      <th>show</th>\n",
       "    </tr>\n",
       "  </thead>\n",
       "  <tbody>\n",
       "    <tr>\n",
       "      <th>0</th>\n",
       "      <td>5642903</td>\n",
       "      <td>F</td>\n",
       "      <td>2016-04-29T18:38:08Z</td>\n",
       "      <td>2016-04-29T00:00:00Z</td>\n",
       "      <td>62</td>\n",
       "      <td>JARDIM DA PENHA</td>\n",
       "      <td>no</td>\n",
       "      <td>yes</td>\n",
       "      <td>no</td>\n",
       "      <td>no</td>\n",
       "      <td>0</td>\n",
       "      <td>no</td>\n",
       "      <td>yes</td>\n",
       "    </tr>\n",
       "  </tbody>\n",
       "</table>\n",
       "</div>"
      ],
      "text/plain": [
       "   appointmentid gender          scheduledday        appointmentday  age  \\\n",
       "0        5642903      F  2016-04-29T18:38:08Z  2016-04-29T00:00:00Z   62   \n",
       "\n",
       "     neighbourhood scholarship hypertension diabetes alcoholism  handcap  \\\n",
       "0  JARDIM DA PENHA          no          yes       no         no        0   \n",
       "\n",
       "  sms_received show  \n",
       "0           no  yes  "
      ]
     },
     "execution_count": 16,
     "metadata": {},
     "output_type": "execute_result"
    }
   ],
   "source": [
    "df.rename({\"hipertension\": \"hypertension\"}, axis=1, inplace= True)\n",
    "df.head(1)"
   ]
  },
  {
   "cell_type": "markdown",
   "id": "79359ace",
   "metadata": {},
   "source": [
    "#### 6- converting the date time columns into a date time objects."
   ]
  },
  {
   "cell_type": "code",
   "execution_count": 17,
   "id": "2dd0b291",
   "metadata": {},
   "outputs": [],
   "source": [
    "list_= ['scheduledday','appointmentday']\n",
    "for col in list_:\n",
    "    df[col] = df[col].str.replace(' ', '')\n",
    "#a loop to remove all spaces from the string values in date columns."
   ]
  },
  {
   "cell_type": "code",
   "execution_count": 18,
   "id": "71685784",
   "metadata": {},
   "outputs": [],
   "source": [
    "for col in list_:\n",
    "    df[col]= pd.to_datetime(df[col], format = '%Y-%m-%dT%H:%M:%SZ')"
   ]
  },
  {
   "cell_type": "code",
   "execution_count": 19,
   "id": "37f7d566",
   "metadata": {},
   "outputs": [
    {
     "name": "stdout",
     "output_type": "stream",
     "text": [
      "scheduledday      datetime64[ns]\n",
      "appointmentday    datetime64[ns]\n",
      "dtype: object\n"
     ]
    }
   ],
   "source": [
    "print(df[list_].dtypes)"
   ]
  },
  {
   "cell_type": "code",
   "execution_count": 20,
   "id": "482bad8d",
   "metadata": {},
   "outputs": [
    {
     "data": {
      "text/html": [
       "<div>\n",
       "<style scoped>\n",
       "    .dataframe tbody tr th:only-of-type {\n",
       "        vertical-align: middle;\n",
       "    }\n",
       "\n",
       "    .dataframe tbody tr th {\n",
       "        vertical-align: top;\n",
       "    }\n",
       "\n",
       "    .dataframe thead th {\n",
       "        text-align: right;\n",
       "    }\n",
       "</style>\n",
       "<table border=\"1\" class=\"dataframe\">\n",
       "  <thead>\n",
       "    <tr style=\"text-align: right;\">\n",
       "      <th></th>\n",
       "      <th>appointmentid</th>\n",
       "      <th>gender</th>\n",
       "      <th>scheduledday</th>\n",
       "      <th>appointmentday</th>\n",
       "      <th>age</th>\n",
       "      <th>neighbourhood</th>\n",
       "      <th>scholarship</th>\n",
       "      <th>hypertension</th>\n",
       "      <th>diabetes</th>\n",
       "      <th>alcoholism</th>\n",
       "      <th>handcap</th>\n",
       "      <th>sms_received</th>\n",
       "      <th>show</th>\n",
       "    </tr>\n",
       "  </thead>\n",
       "  <tbody>\n",
       "    <tr>\n",
       "      <th>0</th>\n",
       "      <td>5642903</td>\n",
       "      <td>F</td>\n",
       "      <td>2016-04-29 18:38:08</td>\n",
       "      <td>2016-04-29</td>\n",
       "      <td>62</td>\n",
       "      <td>JARDIM DA PENHA</td>\n",
       "      <td>no</td>\n",
       "      <td>yes</td>\n",
       "      <td>no</td>\n",
       "      <td>no</td>\n",
       "      <td>0</td>\n",
       "      <td>no</td>\n",
       "      <td>yes</td>\n",
       "    </tr>\n",
       "  </tbody>\n",
       "</table>\n",
       "</div>"
      ],
      "text/plain": [
       "   appointmentid gender        scheduledday appointmentday  age  \\\n",
       "0        5642903      F 2016-04-29 18:38:08     2016-04-29   62   \n",
       "\n",
       "     neighbourhood scholarship hypertension diabetes alcoholism  handcap  \\\n",
       "0  JARDIM DA PENHA          no          yes       no         no        0   \n",
       "\n",
       "  sms_received show  \n",
       "0           no  yes  "
      ]
     },
     "execution_count": 20,
     "metadata": {},
     "output_type": "execute_result"
    }
   ],
   "source": [
    "df.head(1)"
   ]
  },
  {
   "cell_type": "code",
   "execution_count": 21,
   "id": "b7030254",
   "metadata": {},
   "outputs": [],
   "source": [
    "df['scheduledday']= pd.to_datetime(df['scheduledday'].dt.date) #removing the time since the appointmentday has no time."
   ]
  },
  {
   "cell_type": "code",
   "execution_count": 22,
   "id": "53671614",
   "metadata": {},
   "outputs": [
    {
     "data": {
      "text/html": [
       "<div>\n",
       "<style scoped>\n",
       "    .dataframe tbody tr th:only-of-type {\n",
       "        vertical-align: middle;\n",
       "    }\n",
       "\n",
       "    .dataframe tbody tr th {\n",
       "        vertical-align: top;\n",
       "    }\n",
       "\n",
       "    .dataframe thead th {\n",
       "        text-align: right;\n",
       "    }\n",
       "</style>\n",
       "<table border=\"1\" class=\"dataframe\">\n",
       "  <thead>\n",
       "    <tr style=\"text-align: right;\">\n",
       "      <th></th>\n",
       "      <th>appointmentid</th>\n",
       "      <th>gender</th>\n",
       "      <th>scheduledday</th>\n",
       "      <th>appointmentday</th>\n",
       "      <th>age</th>\n",
       "      <th>neighbourhood</th>\n",
       "      <th>scholarship</th>\n",
       "      <th>hypertension</th>\n",
       "      <th>diabetes</th>\n",
       "      <th>alcoholism</th>\n",
       "      <th>handcap</th>\n",
       "      <th>sms_received</th>\n",
       "      <th>show</th>\n",
       "    </tr>\n",
       "  </thead>\n",
       "  <tbody>\n",
       "    <tr>\n",
       "      <th>0</th>\n",
       "      <td>5642903</td>\n",
       "      <td>F</td>\n",
       "      <td>2016-04-29</td>\n",
       "      <td>2016-04-29</td>\n",
       "      <td>62</td>\n",
       "      <td>JARDIM DA PENHA</td>\n",
       "      <td>no</td>\n",
       "      <td>yes</td>\n",
       "      <td>no</td>\n",
       "      <td>no</td>\n",
       "      <td>0</td>\n",
       "      <td>no</td>\n",
       "      <td>yes</td>\n",
       "    </tr>\n",
       "  </tbody>\n",
       "</table>\n",
       "</div>"
      ],
      "text/plain": [
       "   appointmentid gender scheduledday appointmentday  age    neighbourhood  \\\n",
       "0        5642903      F   2016-04-29     2016-04-29   62  JARDIM DA PENHA   \n",
       "\n",
       "  scholarship hypertension diabetes alcoholism  handcap sms_received show  \n",
       "0          no          yes       no         no        0           no  yes  "
      ]
     },
     "execution_count": 22,
     "metadata": {},
     "output_type": "execute_result"
    }
   ],
   "source": [
    "df.head(1)"
   ]
  },
  {
   "cell_type": "markdown",
   "id": "a4c74f3a",
   "metadata": {},
   "source": [
    "#### 7- Defining a new column calculating the gap between the schedule day and appointment day"
   ]
  },
  {
   "cell_type": "code",
   "execution_count": 23,
   "id": "b3cd5b73",
   "metadata": {},
   "outputs": [
    {
     "data": {
      "text/html": [
       "<div>\n",
       "<style scoped>\n",
       "    .dataframe tbody tr th:only-of-type {\n",
       "        vertical-align: middle;\n",
       "    }\n",
       "\n",
       "    .dataframe tbody tr th {\n",
       "        vertical-align: top;\n",
       "    }\n",
       "\n",
       "    .dataframe thead th {\n",
       "        text-align: right;\n",
       "    }\n",
       "</style>\n",
       "<table border=\"1\" class=\"dataframe\">\n",
       "  <thead>\n",
       "    <tr style=\"text-align: right;\">\n",
       "      <th></th>\n",
       "      <th>appointmentid</th>\n",
       "      <th>gender</th>\n",
       "      <th>scheduledday</th>\n",
       "      <th>appointmentday</th>\n",
       "      <th>age</th>\n",
       "      <th>neighbourhood</th>\n",
       "      <th>scholarship</th>\n",
       "      <th>hypertension</th>\n",
       "      <th>diabetes</th>\n",
       "      <th>alcoholism</th>\n",
       "      <th>handcap</th>\n",
       "      <th>sms_received</th>\n",
       "      <th>show</th>\n",
       "      <th>gap</th>\n",
       "    </tr>\n",
       "  </thead>\n",
       "  <tbody>\n",
       "    <tr>\n",
       "      <th>0</th>\n",
       "      <td>5642903</td>\n",
       "      <td>F</td>\n",
       "      <td>2016-04-29</td>\n",
       "      <td>2016-04-29</td>\n",
       "      <td>62</td>\n",
       "      <td>JARDIM DA PENHA</td>\n",
       "      <td>no</td>\n",
       "      <td>yes</td>\n",
       "      <td>no</td>\n",
       "      <td>no</td>\n",
       "      <td>0</td>\n",
       "      <td>no</td>\n",
       "      <td>yes</td>\n",
       "      <td>0 days</td>\n",
       "    </tr>\n",
       "    <tr>\n",
       "      <th>1</th>\n",
       "      <td>5642503</td>\n",
       "      <td>M</td>\n",
       "      <td>2016-04-29</td>\n",
       "      <td>2016-04-29</td>\n",
       "      <td>56</td>\n",
       "      <td>JARDIM DA PENHA</td>\n",
       "      <td>no</td>\n",
       "      <td>no</td>\n",
       "      <td>no</td>\n",
       "      <td>no</td>\n",
       "      <td>0</td>\n",
       "      <td>no</td>\n",
       "      <td>yes</td>\n",
       "      <td>0 days</td>\n",
       "    </tr>\n",
       "    <tr>\n",
       "      <th>2</th>\n",
       "      <td>5642549</td>\n",
       "      <td>F</td>\n",
       "      <td>2016-04-29</td>\n",
       "      <td>2016-04-29</td>\n",
       "      <td>62</td>\n",
       "      <td>MATA DA PRAIA</td>\n",
       "      <td>no</td>\n",
       "      <td>no</td>\n",
       "      <td>no</td>\n",
       "      <td>no</td>\n",
       "      <td>0</td>\n",
       "      <td>no</td>\n",
       "      <td>yes</td>\n",
       "      <td>0 days</td>\n",
       "    </tr>\n",
       "  </tbody>\n",
       "</table>\n",
       "</div>"
      ],
      "text/plain": [
       "   appointmentid gender scheduledday appointmentday  age    neighbourhood  \\\n",
       "0        5642903      F   2016-04-29     2016-04-29   62  JARDIM DA PENHA   \n",
       "1        5642503      M   2016-04-29     2016-04-29   56  JARDIM DA PENHA   \n",
       "2        5642549      F   2016-04-29     2016-04-29   62    MATA DA PRAIA   \n",
       "\n",
       "  scholarship hypertension diabetes alcoholism  handcap sms_received show  \\\n",
       "0          no          yes       no         no        0           no  yes   \n",
       "1          no           no       no         no        0           no  yes   \n",
       "2          no           no       no         no        0           no  yes   \n",
       "\n",
       "     gap  \n",
       "0 0 days  \n",
       "1 0 days  \n",
       "2 0 days  "
      ]
     },
     "execution_count": 23,
     "metadata": {},
     "output_type": "execute_result"
    }
   ],
   "source": [
    "df['gap'] = df['appointmentday'] - df['scheduledday']\n",
    "df.head(3)"
   ]
  },
  {
   "cell_type": "code",
   "execution_count": 24,
   "id": "09931727",
   "metadata": {
    "scrolled": true
   },
   "outputs": [],
   "source": [
    "# rearranging columns\n",
    "colss= df.columns.tolist()\n",
    "colss = colss[0:4] + colss[-1:] + colss[4:-1]\n",
    "df= df[colss]"
   ]
  },
  {
   "cell_type": "code",
   "execution_count": 25,
   "id": "87969f4f",
   "metadata": {
    "scrolled": true
   },
   "outputs": [
    {
     "data": {
      "text/html": [
       "<div>\n",
       "<style scoped>\n",
       "    .dataframe tbody tr th:only-of-type {\n",
       "        vertical-align: middle;\n",
       "    }\n",
       "\n",
       "    .dataframe tbody tr th {\n",
       "        vertical-align: top;\n",
       "    }\n",
       "\n",
       "    .dataframe thead th {\n",
       "        text-align: right;\n",
       "    }\n",
       "</style>\n",
       "<table border=\"1\" class=\"dataframe\">\n",
       "  <thead>\n",
       "    <tr style=\"text-align: right;\">\n",
       "      <th></th>\n",
       "      <th>appointmentid</th>\n",
       "      <th>gender</th>\n",
       "      <th>scheduledday</th>\n",
       "      <th>appointmentday</th>\n",
       "      <th>gap</th>\n",
       "      <th>age</th>\n",
       "      <th>neighbourhood</th>\n",
       "      <th>scholarship</th>\n",
       "      <th>hypertension</th>\n",
       "      <th>diabetes</th>\n",
       "      <th>alcoholism</th>\n",
       "      <th>handcap</th>\n",
       "      <th>sms_received</th>\n",
       "      <th>show</th>\n",
       "    </tr>\n",
       "  </thead>\n",
       "  <tbody>\n",
       "    <tr>\n",
       "      <th>0</th>\n",
       "      <td>5642903</td>\n",
       "      <td>F</td>\n",
       "      <td>2016-04-29</td>\n",
       "      <td>2016-04-29</td>\n",
       "      <td>0 days</td>\n",
       "      <td>62</td>\n",
       "      <td>JARDIM DA PENHA</td>\n",
       "      <td>no</td>\n",
       "      <td>yes</td>\n",
       "      <td>no</td>\n",
       "      <td>no</td>\n",
       "      <td>0</td>\n",
       "      <td>no</td>\n",
       "      <td>yes</td>\n",
       "    </tr>\n",
       "  </tbody>\n",
       "</table>\n",
       "</div>"
      ],
      "text/plain": [
       "   appointmentid gender scheduledday appointmentday    gap  age  \\\n",
       "0        5642903      F   2016-04-29     2016-04-29 0 days   62   \n",
       "\n",
       "     neighbourhood scholarship hypertension diabetes alcoholism  handcap  \\\n",
       "0  JARDIM DA PENHA          no          yes       no         no        0   \n",
       "\n",
       "  sms_received show  \n",
       "0           no  yes  "
      ]
     },
     "execution_count": 25,
     "metadata": {},
     "output_type": "execute_result"
    }
   ],
   "source": [
    "df.head(1)"
   ]
  },
  {
   "cell_type": "code",
   "execution_count": 26,
   "id": "c4a1a4a9",
   "metadata": {},
   "outputs": [],
   "source": [
    "#turning the column into int to allow calculations.\n",
    "df.gap= df.gap.astype(str).apply(lambda x: x[:-len(' days')]).astype(int)"
   ]
  },
  {
   "cell_type": "markdown",
   "id": "e72bea22",
   "metadata": {},
   "source": [
    "<a id='eda'></a>\n",
    "## Exploratory Data Analysis"
   ]
  },
  {
   "cell_type": "markdown",
   "id": "8b778e40",
   "metadata": {},
   "source": [
    "### 1- who has the highiest probability to attend in the spicified appointment date ?"
   ]
  },
  {
   "cell_type": "code",
   "execution_count": 27,
   "id": "3fc6e7b1",
   "metadata": {
    "scrolled": true
   },
   "outputs": [
    {
     "data": {
      "image/png": "[encoded data removed]",
      "text/plain": [
       "<Figure size 576x252 with 2 Axes>"
      ]
     },
     "metadata": {
      "needs_background": "light"
     },
     "output_type": "display_data"
    }
   ],
   "source": [
    "fig1= plt.figure(figsize=(8,3.5))\n",
    "ax1= fig1.add_subplot(121)\n",
    "ax2= fig1.add_subplot(122)\n",
    "\n",
    "df0= (df[df.gap== 0].groupby('show')['appointmentid'].count()/df[df.gap== 0].appointmentid.count()*100)\n",
    "ind =np.arange(len(df0))\n",
    "width = 0.35\n",
    "ax1.bar(ind, df0.sort_values(ascending=False), width, color='b');\n",
    "labels = ['Yes', 'No']\n",
    "locations= ind\n",
    "ax1.xaxis.set_ticks(locations)\n",
    "ax1.xaxis.set_ticklabels(labels)\n",
    "ax1.set_ylabel('Percentage')\n",
    "ax1.set_xlabel('Attendance')\n",
    "ax1.set_title('Attendance percentage without delay \\n', fontsize=10)\n",
    "ax1.grid(True)\n",
    "\n",
    "df7plus= (df[df.gap >= 7].groupby('show')['appointmentid'].count()/df[df.gap >= 7].appointmentid.count()*100)\n",
    "ind =np.arange(len(df7plus))\n",
    "width = 0.35\n",
    "ax2.bar(ind, df7plus.sort_values(ascending=False), width, color='m');\n",
    "labels = ['Yes', 'No']  # xtick labels\n",
    "locations= ind\n",
    "ax2.xaxis.set_ticks(locations)\n",
    "ax2.xaxis.set_ticklabels(labels)\n",
    "ax2.set_ylabel('Percentage')\n",
    "ax2.set_xlabel('Attendance')\n",
    "ax2.set_title('Attendance percentage with 7 days delay\\n', fontsize=10)\n",
    "ax2.grid(True)\n",
    "\n",
    "fig1.tight_layout()"
   ]
  },
  {
   "cell_type": "markdown",
   "id": "b88da18a",
   "metadata": {},
   "source": [
    "we found if the appointment date between 7 days has highest probability to attend"
   ]
  },
  {
   "cell_type": "markdown",
   "id": "9454a44e",
   "metadata": {},
   "source": [
    "### 2- does handicapabiliy degree affects the attentance percentage ?"
   ]
  },
  {
   "cell_type": "code",
   "execution_count": 28,
   "id": "65415f7b",
   "metadata": {
    "scrolled": true
   },
   "outputs": [
    {
     "data": {
      "image/png": "[encoded data removed]",
      "text/plain": [
       "<Figure size 1080x288 with 1 Axes>"
      ]
     },
     "metadata": {
      "needs_background": "light"
     },
     "output_type": "display_data"
    }
   ],
   "source": [
    "fig2 =plt.figure(figsize=(15,4))\n",
    "ax3= fig2.add_subplot(111)\n",
    "xx= df.groupby(['show','handcap'])['appointmentid'].count()\n",
    "yy= df.groupby('handcap')['appointmentid'].count()\n",
    "attended= (xx['yes']/yy)*100\n",
    "notattended= (xx['no']/yy)*100\n",
    "ind= np.arange(len(attended))\n",
    "width=0.25\n",
    "ax3.bar(ind, attended, width, label='Attended', color='b')\n",
    "ax3.bar(ind+width, notattended, width, label='Not Attended', color='r')\n",
    "labels= ['Degree 0','Degree 1', 'Degree 2', 'Degree 3', 'Degree 4']\n",
    "location= ind+width/2\n",
    "ax3.xaxis.set_ticks(location)\n",
    "ax3.xaxis.set_ticklabels(labels)\n",
    "ax3.legend()\n",
    "ax3.set_ylabel('Percentage\\n', fontsize=13)\n",
    "ax3.set_xlabel('\\nhandicapability degree', fontsize=13)\n",
    "ax3.set_title('Attendance percentage according to degree of handicapability\\n' , fontsize=13, color='g');\n",
    "ax3.grid(True)\n",
    "fig2.tight_layout()"
   ]
  },
  {
   "cell_type": "markdown",
   "id": "b44a4680",
   "metadata": {},
   "source": [
    "we notics that all handicapability degree have same average of attend but degree 4 about half of people didn't come"
   ]
  },
  {
   "cell_type": "markdown",
   "id": "de909d9e",
   "metadata": {},
   "source": [
    "### 3- Does alcoholism or gender influences whether  the patient attend or not ?"
   ]
  },
  {
   "cell_type": "code",
   "execution_count": 29,
   "id": "808533d6",
   "metadata": {
    "scrolled": true
   },
   "outputs": [
    {
     "data": {
      "image/png": "[encoded data removed]",
      "text/plain": [
       "<Figure size 720x252 with 2 Axes>"
      ]
     },
     "metadata": {
      "needs_background": "light"
     },
     "output_type": "display_data"
    }
   ],
   "source": [
    "fig3= plt.figure(figsize=(10,3.5))\n",
    "\n",
    "\n",
    "ax2 =fig3.add_subplot(121)\n",
    "ax3 =fig3.add_subplot(122)\n",
    "\n",
    "\n",
    "xxx= df.groupby(['show','alcoholism'])['appointmentid'].count()\n",
    "yyy= df.groupby('alcoholism')['appointmentid'].count()\n",
    "attended1 = xxx['yes']/yyy *100\n",
    "notattened1= xxx['no']/yyy *100\n",
    "ind= np.arange(len(attended1))\n",
    "width=0.15\n",
    "ax2.bar(ind, attended1, width, label='Attended', color='b')\n",
    "ax2.bar(ind+width, notattened1, width, label='Not Attended', color='r')\n",
    "labels= ['Non-alcoholic','alcoholic']\n",
    "location= ind+width/2\n",
    "ax2.xaxis.set_ticks(location)\n",
    "ax2.xaxis.set_ticklabels(labels)\n",
    "ax2.legend()\n",
    "ax2.set_ylabel('Percentage', fontsize=10)\n",
    "ax2.set_xlabel('Alcoholism', fontsize=10)\n",
    "ax2.set_title('Attendance percentage according to alcoholism\\n' , fontsize=11, color='m');\n",
    "ax2.grid(True)\n",
    "\n",
    "\n",
    "a= df.groupby(['show', 'gender'])['appointmentid'].count()\n",
    "b= df.groupby('gender')['appointmentid'].count()\n",
    "attended2= a['yes']/b*100\n",
    "nonattended2 = a['no']/b*100\n",
    "ind=np.arange(len(attended2))\n",
    "ax3.bar(ind, attended2, width, label='attended', color = 'b')\n",
    "ax3.bar(ind+width, nonattended2, width, label='Non-attended', color='r')\n",
    "labels= ['Female','Male']\n",
    "location= ind+width/2\n",
    "ax3.xaxis.set_ticks(location)\n",
    "ax3.xaxis.set_ticklabels(labels)\n",
    "ax3.legend()\n",
    "ax3.set_ylabel('Percentage', fontsize=10)\n",
    "ax3.set_xlabel('Gender', fontsize=10)\n",
    "ax3.set_title('Attendance percentage according to gender\\n' , fontsize=11, color='m');\n",
    "ax3.grid(True)\n",
    "fig3.tight_layout()"
   ]
  },
  {
   "cell_type": "markdown",
   "id": "50d96e3b",
   "metadata": {},
   "source": [
    "part one of question we found that alchohol didn't effect in attendance\n",
    "\n",
    "part two we found that femal more than male in attendance"
   ]
  },
  {
   "cell_type": "markdown",
   "id": "10ca8a22",
   "metadata": {},
   "source": [
    "### 4- Did sending sms affect the attendence ?"
   ]
  },
  {
   "cell_type": "code",
   "execution_count": 30,
   "id": "7d3881c5",
   "metadata": {},
   "outputs": [
    {
     "data": {
      "image/png": "[encoded data removed]",
      "text/plain": [
       "<Figure size 360x338.4 with 1 Axes>"
      ]
     },
     "metadata": {
      "needs_background": "light"
     },
     "output_type": "display_data"
    }
   ],
   "source": [
    "fig4= plt.figure(figsize=(5,4.7))\n",
    "ax1 =fig4.add_subplot(111)\n",
    "\n",
    "c= df.groupby(['show', 'sms_received'])['appointmentid'].count()\n",
    "d= df.groupby('sms_received')['appointmentid'].count()\n",
    "attended3= c['yes']/d*100\n",
    "nonattended3 = c['no']/d*100\n",
    "ind=np.arange(len(attended3))\n",
    "c= df.groupby(['show', 'sms_received'])['appointmentid'].count()\n",
    "d= df.groupby('sms_received')['appointmentid'].count()\n",
    "attended3= c['yes']/d*100\n",
    "nonattended3 = c['no']/d*100\n",
    "ind=np.arange(len(attended3))\n",
    "width=0.35\n",
    "ax1.bar(ind, attended3, width, label='attended', color = 'b')\n",
    "ax1.bar(ind+width, nonattended3, width, label='Non-attended', color='r')\n",
    "labels= ['Got sms','Didnt get sms']\n",
    "location= ind+width/2\n",
    "ax1.xaxis.set_ticks(location)\n",
    "ax1.xaxis.set_ticklabels(labels)\n",
    "ax1.legend()\n",
    "ax1.set_ylabel('Percentage', fontsize=10)\n",
    "ax1.set_xlabel('SMS', fontsize=10)\n",
    "ax1.set_title('Attendance percentage according to sms sent\\n' , fontsize=15, color='m');\n",
    "ax1.grid(True)\n",
    "fig4.tight_layout()"
   ]
  },
  {
   "cell_type": "markdown",
   "id": "dc7222d4",
   "metadata": {},
   "source": [
    "we found about 10% of people who attend with sms massage more than who didn't get the sms massage"
   ]
  },
  {
   "cell_type": "markdown",
   "id": "368fb4b5",
   "metadata": {},
   "source": [
    "### 5- what is percentrage of the overall attendence ?"
   ]
  },
  {
   "cell_type": "code",
   "execution_count": 31,
   "id": "253bf8c5",
   "metadata": {},
   "outputs": [
    {
     "data": {
      "image/png": "[encoded data removed]",
      "text/plain": [
       "<Figure size 432x288 with 1 Axes>"
      ]
     },
     "metadata": {},
     "output_type": "display_data"
    }
   ],
   "source": [
    "explode=[0,0.2]\n",
    "fig5 = plt.figure()\n",
    "ax1= fig5.add_subplot(111)\n",
    "ax1.pie(df.show.value_counts(), labels =['Yes', 'No'], autopct='%1.1f%%', shadow=True, explode=explode, textprops={'fontsize': 16});\n",
    "ax1.set_title('Attendance percentage' , fontsize=15, color='m');"
   ]
  },
  {
   "cell_type": "markdown",
   "id": "792806e2",
   "metadata": {},
   "source": [
    "about 80% of people attend and 20% not"
   ]
  },
  {
   "cell_type": "code",
   "execution_count": 32,
   "id": "66b55e79",
   "metadata": {},
   "outputs": [],
   "source": [
    "df_no = df[df.show =='no'] # defining a new dataframe with only who did not attend to dig more into details."
   ]
  },
  {
   "cell_type": "code",
   "execution_count": 33,
   "id": "eccf13e7",
   "metadata": {},
   "outputs": [
    {
     "data": {
      "text/html": [
       "<div>\n",
       "<style scoped>\n",
       "    .dataframe tbody tr th:only-of-type {\n",
       "        vertical-align: middle;\n",
       "    }\n",
       "\n",
       "    .dataframe tbody tr th {\n",
       "        vertical-align: top;\n",
       "    }\n",
       "\n",
       "    .dataframe thead th {\n",
       "        text-align: right;\n",
       "    }\n",
       "</style>\n",
       "<table border=\"1\" class=\"dataframe\">\n",
       "  <thead>\n",
       "    <tr style=\"text-align: right;\">\n",
       "      <th></th>\n",
       "      <th>appointmentid</th>\n",
       "      <th>gender</th>\n",
       "      <th>scheduledday</th>\n",
       "      <th>appointmentday</th>\n",
       "      <th>gap</th>\n",
       "      <th>age</th>\n",
       "      <th>neighbourhood</th>\n",
       "      <th>scholarship</th>\n",
       "      <th>hypertension</th>\n",
       "      <th>diabetes</th>\n",
       "      <th>alcoholism</th>\n",
       "      <th>handcap</th>\n",
       "      <th>sms_received</th>\n",
       "      <th>show</th>\n",
       "    </tr>\n",
       "  </thead>\n",
       "  <tbody>\n",
       "    <tr>\n",
       "      <th>6</th>\n",
       "      <td>5630279</td>\n",
       "      <td>F</td>\n",
       "      <td>2016-04-27</td>\n",
       "      <td>2016-04-29</td>\n",
       "      <td>2</td>\n",
       "      <td>23</td>\n",
       "      <td>GOIABEIRAS</td>\n",
       "      <td>no</td>\n",
       "      <td>no</td>\n",
       "      <td>no</td>\n",
       "      <td>no</td>\n",
       "      <td>0</td>\n",
       "      <td>no</td>\n",
       "      <td>no</td>\n",
       "    </tr>\n",
       "  </tbody>\n",
       "</table>\n",
       "</div>"
      ],
      "text/plain": [
       "   appointmentid gender scheduledday appointmentday  gap  age neighbourhood  \\\n",
       "6        5630279      F   2016-04-27     2016-04-29    2   23    GOIABEIRAS   \n",
       "\n",
       "  scholarship hypertension diabetes alcoholism  handcap sms_received show  \n",
       "6          no           no       no         no        0           no   no  "
      ]
     },
     "execution_count": 33,
     "metadata": {},
     "output_type": "execute_result"
    }
   ],
   "source": [
    "df_no.head(1)"
   ]
  },
  {
   "cell_type": "markdown",
   "id": "56813cc2",
   "metadata": {},
   "source": [
    "### 6- is there any aspect that contributes sharply to not attending?"
   ]
  },
  {
   "cell_type": "code",
   "execution_count": 34,
   "id": "fd7c664d",
   "metadata": {
    "scrolled": false
   },
   "outputs": [
    {
     "data": {
      "image/png": "[encoded data removed]",
      "text/plain": [
       "<Figure size 1080x576 with 8 Axes>"
      ]
     },
     "metadata": {},
     "output_type": "display_data"
    }
   ],
   "source": [
    "fig6=plt.figure(figsize=(15,8))\n",
    "fig6.suptitle('Different parameters percentage in the whole sample\\ncompared to the same in non-attended\\n', fontsize=16)\n",
    "ax1,ax2,ax3,ax4,ax5,ax6,ax7,ax8= fig6.add_subplot(241),fig6.add_subplot(242),fig6.add_subplot(243),fig6.add_subplot(244), fig6.add_subplot(245),fig6.add_subplot(246),fig6.add_subplot(247),fig6.add_subplot(248)\n",
    "explode=[0,0.3]\n",
    "ax1.pie(df.scholarship.value_counts()/df.appointmentid.count(),textprops={'fontsize': 16}, autopct='%1.1f%%', labels =['No', 'Yes'], shadow=True, explode=explode);\n",
    "ax2.pie(df.hypertension.value_counts()/df.appointmentid.count(), labels =['No', 'Yes'],textprops={'fontsize': 16}, autopct='%1.1f%%', shadow=True, explode=explode);\n",
    "ax3.pie(df.diabetes.value_counts()/df.appointmentid.count(), labels =['No', 'Yes'],textprops={'fontsize': 16}, autopct='%1.1f%%', shadow=True, explode=explode);\n",
    "ax4.pie(df.alcoholism.value_counts()/df.appointmentid.count(), labels =['No', 'Yes'],textprops={'fontsize': 16}, autopct='%1.1f%%', shadow=True, explode=explode);\n",
    "ax1.set_title('Whole sample scholarship', fontsize=15, color='m')\n",
    "ax2.set_title('Whole sample hypertension', fontsize=15, color='m')\n",
    "ax3.set_title('Whole sample diabetes', fontsize=15, color='m')\n",
    "ax4.set_title('Whole sample alcoholism', fontsize=15, color='m');\n",
    "ax5.pie(df_no.scholarship.value_counts()/df_no.appointmentid.count(),textprops={'fontsize': 16}, autopct='%1.1f%%', labels =['No', 'Yes'], shadow=True, explode=explode);\n",
    "ax6.pie(df_no.hypertension.value_counts()/df_no.appointmentid.count(), labels =['No', 'Yes'],textprops={'fontsize': 16}, autopct='%1.1f%%', shadow=True, explode=explode);\n",
    "ax7.pie(df_no.diabetes.value_counts()/df_no.appointmentid.count(), labels =['No', 'Yes'],textprops={'fontsize': 16}, autopct='%1.1f%%', shadow=True, explode=explode);\n",
    "ax8.pie(df_no.alcoholism.value_counts()/df_no.appointmentid.count(), labels =['No', 'Yes'],textprops={'fontsize': 16}, autopct='%1.1f%%', shadow=True, explode=explode);\n",
    "ax5.set_title('Non-attended scholarship', fontsize=15, color='m')\n",
    "ax6.set_title('Non-attended hypertension', fontsize=15, color='m')\n",
    "ax7.set_title('Non-attended diabetes', fontsize=15, color='m')\n",
    "ax8.set_title('Non-attended alcoholism', fontsize=15, color='m');\n",
    "fig6.tight_layout()"
   ]
  },
  {
   "cell_type": "markdown",
   "id": "c2aafd93",
   "metadata": {},
   "source": [
    "we found that all of this [scholarship, hypertension, diabetes, alcoholism] didn't have high effect of attendence"
   ]
  },
  {
   "cell_type": "markdown",
   "id": "79144b1a",
   "metadata": {},
   "source": [
    "### 7- what is the top 10 nighbourhoods with the lowest attendence ?"
   ]
  },
  {
   "cell_type": "code",
   "execution_count": 35,
   "id": "25fbaeb0",
   "metadata": {
    "scrolled": true
   },
   "outputs": [
    {
     "data": {
      "image/png": "[encoded data removed]",
      "text/plain": [
       "<Figure size 432x288 with 1 Axes>"
      ]
     },
     "metadata": {
      "needs_background": "light"
     },
     "output_type": "display_data"
    }
   ],
   "source": [
    "(df_no.neighbourhood.value_counts().nlargest(10)/df.neighbourhood.value_counts()*100).sort_values(ascending=False).dropna().plot(kind='bar', fontsize=8);\n",
    "plt.ylabel('Percentage', fontsize=20)\n",
    "plt.title('\\nTop 10 neighbourhoods with the lowest attendence\\n', fontsize=15);"
   ]
  },
  {
   "cell_type": "code",
   "execution_count": 36,
   "id": "4fada943",
   "metadata": {},
   "outputs": [
    {
     "data": {
      "text/plain": [
       "(7, 14)"
      ]
     },
     "execution_count": 36,
     "metadata": {},
     "output_type": "execute_result"
    }
   ],
   "source": [
    "df[df.age>100].shape # finding the number of patients with age more than 100, looks like it could be conseidered outliers. "
   ]
  },
  {
   "cell_type": "markdown",
   "id": "192de803",
   "metadata": {},
   "source": [
    "### 8- that is age category with the most attendence and the one with the lowest ?"
   ]
  },
  {
   "cell_type": "code",
   "execution_count": 37,
   "id": "58d7a899",
   "metadata": {
    "scrolled": false
   },
   "outputs": [
    {
     "data": {
      "image/png": "[encoded data removed]",
      "text/plain": [
       "<Figure size 432x288 with 1 Axes>"
      ]
     },
     "metadata": {
      "needs_background": "light"
     },
     "output_type": "display_data"
    }
   ],
   "source": [
    "df_no120,df_120 = df_no[df_no.age<=100],df[df.age<=100]\n",
    "ff= pd.DataFrame(df_no120.groupby('age')['appointmentid'].count()/df_120.groupby('age')['appointmentid'].count()*100).reset_index().dropna()\n",
    "plt.plot(ff.age,ff.appointmentid)\n",
    "plt.title('Percentage of non-attending to the corresponding age\\n',fontsize=20, color='m')\n",
    "plt.xlabel('Ages',fontsize=15, color='black')\n",
    "plt.ylabel('percentage of non-attendence',fontsize=15, color='black');\n",
    "plt.grid(axis='y')"
   ]
  },
  {
   "cell_type": "markdown",
   "id": "1a63860e",
   "metadata": {},
   "source": [
    "between  10 to 20 have high percentage of no attendence"
   ]
  },
  {
   "cell_type": "markdown",
   "id": "2570a350",
   "metadata": {},
   "source": [
    "<a id='conclusions'></a>\n",
    "## Conclusion"
   ]
  },
  {
   "cell_type": "markdown",
   "id": "2a99273b",
   "metadata": {},
   "source": [
    "## result\n",
    "\n",
    "#### - The data shown that the patients that scheduled their appointment day on the same day of the call had a very high probability to attend as shown the the graph that more than 95% of them attended, while decreased to less than 70 % if the patient delayed the appointment from 1 to 7 days after the call.  \n",
    "#### - Neither the alcoholism or the gender or the degree of haicapability seem to have a big influence on the attendence, only the 4th degree handicapability degree had less than 70 % attendence while the other degrees are around 80 % attendence percentage.    \n",
    "#### - While other factors doesnt have an big influence, but sending sms seems to have a considerable one as the patients who received sms as a reminder of the appointment achieved more than 80 % attendence percentage, while the patients who did not get sms, achieved only slightly over the 70 %.  \n",
    "#### - It was also noticed that scolarship, alcoholism, diabetes, and hypertension percentage of patients in the whole sample resembles their percentage in the drawn not-attended sample to a high extent, which is a fair proof that these parameters does not provide reliable information whether to expect the patient or not.\n",
    "#### - Graph also shown that patients whos hospital was localed in the neighbourhood ITARARE had the highiest non attendence probability with more than 25 %, perharps the hospital in this neighbourhood should be investigated.   \n"
   ]
  },
  {
   "cell_type": "markdown",
   "id": "6cf439f7",
   "metadata": {},
   "source": [
    "## limitation\n",
    "    1. there's data won't help us in analysis like pateintId and appointmentId"
   ]
  },
  {
   "cell_type": "markdown",
   "id": "9c2429c8",
   "metadata": {},
   "source": []
  }
 ],
 "metadata": {
  "kernelspec": {
   "display_name": "Python 3",
   "language": "python",
   "name": "python3"
  },
  "language_info": {
   "codemirror_mode": {
    "name": "ipython",
    "version": 3
   },
   "file_extension": ".py",
   "mimetype": "text/x-python",
   "name": "python",
   "nbconvert_exporter": "python",
   "pygments_lexer": "ipython3",
   "version": "3.8.8"
  }
 },
 "nbformat": 4,
 "nbformat_minor": 5
}
